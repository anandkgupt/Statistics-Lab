{
  "nbformat": 4,
  "nbformat_minor": 0,
  "metadata": {
    "colab": {
      "provenance": [],
      "authorship_tag": "ABX9TyOAbl0lj3+TspUyLFLZNMEI",
      "include_colab_link": true
    },
    "kernelspec": {
      "name": "python3",
      "display_name": "Python 3"
    },
    "language_info": {
      "name": "python"
    }
  },
  "cells": [
    {
      "cell_type": "markdown",
      "metadata": {
        "id": "view-in-github",
        "colab_type": "text"
      },
      "source": [
        "<a href=\"https://colab.research.google.com/github/anandkgupt/Statistics-Lab/blob/main/Statistics_Basics_Assignment.ipynb\" target=\"_parent\"><img src=\"https://colab.research.google.com/assets/colab-badge.svg\" alt=\"Open In Colab\"/></a>"
      ]
    },
    {
      "cell_type": "markdown",
      "source": [
        "Q1. Explain the different types of data (qualitative and quantitative) and provide examples of each. Discuss\n",
        "nominal, ordinal, interval, and ratio scales.\n",
        "\n",
        "ANS: **(1) Qualitative (Categorical):** Describes qualities or characteristics.\n",
        "\n",
        "(A) Nominal: Data that can only be categorized, with no inherent order.\n",
        "Examples: Gender (Male, Female), Eye Color (Blue, Brown, Green), Brand of Car.\n",
        "\n",
        "(B) Ordinal: Data that can be categorized and ranked, but the differences between categories may not be equal.\n",
        "Examples: Educational Level (High School, Bachelor's, Master's), Customer Satisfaction (Very Satisfied, Satisfied, Neutral, Dissatisfied).\n",
        "\n",
        "**(2) Quantitative (Numerical):** Represents measurable quantities.\n",
        "\n",
        "(A) Interval: Data that can be ordered, and the differences between values are meaningful. However, there's no true zero point.\n",
        "Examples: Temperature in Celsius or Fahrenheit, Time on a 12-hour clock.\n",
        "\n",
        "(B) Ratio: Data that can be ordered, differences are meaningful, and there's a true zero point.\n",
        "Examples: Height, Weight, Income, Age."
      ],
      "metadata": {
        "id": "XqZw8qEI7ABc"
      }
    },
    {
      "cell_type": "markdown",
      "source": [
        "Q2. What are the measures of central tendency, and when should you use each? Discuss the mean, median,\n",
        "and mode with examples and situations where each is appropriate.\n",
        "\n",
        "ANS: **Measures of Central Tendency:**\n",
        "\n",
        "**Mean:** The average of all values in a dataset.\n",
        "\n",
        "Appropriate when: Data is roughly symmetrical and free from extreme outliers.\n",
        "Example: Average income of a group of people.\n",
        "\n",
        "**Median:** The middle value when data is arranged in order.\n",
        "\n",
        "Appropriate when: Data is skewed or contains outliers.\n",
        "Example: Median house price in a neighborhood (outliers like very expensive mansions can skew the mean).\n",
        "\n",
        "**Mode:** The most frequently occurring value.\n",
        "\n",
        "Appropriate when: Identifying the most common category or value.\n",
        "Example: The most popular car color sold in a year."
      ],
      "metadata": {
        "id": "K9FLDybN7AET"
      }
    },
    {
      "cell_type": "markdown",
      "source": [
        "Q3.  Explain the concept of dispersion. How do variance and standard deviation measure the spread of data?\n",
        "\n",
        "ANS:  **Dispersion:** Dispersion measures how spread out the data points are.\n",
        "**Variance:** The average squared deviation of each data point from the mean.\n",
        "\n",
        "**Standard Deviation:** The square root of variance, providing a measure of spread in the same units as the original data."
      ],
      "metadata": {
        "id": "4bF40Mqq7AHC"
      }
    },
    {
      "cell_type": "markdown",
      "source": [
        "Q4. What is a box plot, and what can it tell you about the distribution of data?\n",
        "\n",
        "ANS: A box plot (also known as a box-and-whisker plot) is a graphical representation of the distribution of a dataset.\n",
        "\n",
        "Minimum: The smallest data value (excluding outliers).\n",
        "\n",
        "First Quartile (Q1): The median of the lower half of the dataset (25th percentile).\n",
        "\n",
        "Median (Q2): The middle value of the dataset (50th percentile).\n",
        "\n",
        "Third Quartile (Q3): The median of the upper half of the dataset (75th percentile).\n",
        "\n",
        "Maximum: The largest data value (excluding outliers)."
      ],
      "metadata": {
        "id": "CVk7BHB67AJm"
      }
    },
    {
      "cell_type": "markdown",
      "source": [
        "Q5. Discuss the role of random sampling in making inferences about populations.\n",
        "\n",
        "ANS: Random Sampling:\n",
        "\n",
        "Involves selecting a subset of individuals from a population in such a way that every member of the population has an equal chance of being chosen.\n",
        "\n",
        "Importance:\n",
        "Allows researchers to make inferences about the entire population based on the sample.\n",
        "Reduces bias and increases the generalizability of the findings."
      ],
      "metadata": {
        "id": "-tcYkpA07AMP"
      }
    },
    {
      "cell_type": "markdown",
      "source": [
        "Q6.  Explain the concept of skewness and its types. How does skewness affect the interpretation of data?\n",
        "\n",
        "ANS: **Skewness:** Measures the asymmetry of a distribution.\n",
        "\n",
        "**Types:**\n",
        "\n",
        "Positive Skew (Right Skew): Tail of the distribution extends to the right.\n",
        "Negative Skew (Left Skew): Tail of the distribution extends to the left.\n",
        "Symmetrical: No skew, data is evenly distributed around the mean.\n",
        "\n",
        "**Impact:**\n",
        "\n",
        "Skewness affects the relationship between mean, median, and mode.\n",
        "Can influence the choice of appropriate statistical tests."
      ],
      "metadata": {
        "id": "O8XvNUT17AO4"
      }
    },
    {
      "cell_type": "markdown",
      "source": [
        "Q7. What is the interquartile range (IQR), and how is it used to detect outliers?\n",
        "\n",
        "ANS: **Interquartile Range (IQR):**\n",
        "\n",
        "The difference between the third quartile (Q3) and the first quartile (Q1).\n",
        "\n",
        "**Detecting Outliers:**\n",
        "\n",
        "Lower Bound: Q1 - (1.5 * IQR)\n",
        "\n",
        "Upper Bound: Q3 + (1.5 * IQR)\n",
        "\n",
        "Any data point falling outside these bounds is considered an outlier."
      ],
      "metadata": {
        "id": "TNeM-6Sb-lgE"
      }
    },
    {
      "cell_type": "markdown",
      "source": [
        "Q8.  Discuss the conditions under which the binomial distribution is used.\n",
        "\n",
        "ANS: **Binomial Distribution:** Conditions:\n",
        "\n",
        "Fixed number of trials (n).\n",
        "\n",
        "Each trial has only two possible outcomes (success or failure).\n",
        "\n",
        "Probability of success (p) remains constant for each trial.\n",
        "\n",
        "Trials are independent of each other."
      ],
      "metadata": {
        "id": "w7C5WpNy-ljN"
      }
    },
    {
      "cell_type": "markdown",
      "source": [
        "Q9.  Explain the properties of the normal distribution and the empirical rule (68-95-99.7 rule).\n",
        "\n",
        "ANS: **Normal Distribution:**\n",
        "\n",
        "**Properties:**\n",
        "\n",
        "Bell-shaped and symmetrical.\n",
        "\n",
        "Mean, median, and mode are equal.\n",
        "\n",
        "Infinitely many possible values.\n",
        "\n",
        "**Empirical Rule (68-95-99.7 Rule):**\n",
        "\n",
        "Approximately 68% of the data falls within one standard deviation of the mean.\n",
        "Approximately 95% of the data falls within two standard deviations of the mean.\n",
        "Approximately 99.7% of the data falls within three standard deviations of the mean.\n"
      ],
      "metadata": {
        "id": "lBiyvQQ6-lmM"
      }
    },
    {
      "cell_type": "markdown",
      "source": [
        "Q10. Provide a real-life example of a Poisson process and calculate the probability for a specific event.\n",
        "\n",
        "ANS: **Poisson Process:** A stochastic process where events occur randomly and independently at a constant average rate.\n",
        "\n",
        "Example: The number of customers arriving at a bank per hour.\n",
        "\n",
        "The number of earthquakes in a region per year.\n",
        "\n",
        "**Probability Calculation:** The probability of observing 'k' events in a given interval is given by the Poisson probability mass function:\n",
        "\n",
        "P(X = k) = (λ^k * e^(-λ)) / k!\n",
        "\n",
        "where λ is the average rate of events."
      ],
      "metadata": {
        "id": "zqB5FWH7-lpP"
      }
    },
    {
      "cell_type": "markdown",
      "source": [
        "Q11.  Explain what a random variable is and differentiate between discrete and continuous random variables.\n",
        "\n",
        "ANS: A random variable is a function that assigns a numerical value to each possible outcome of a random experiment.\n",
        "\n",
        "**Differentiate between discrete and continuous random variables:**\n",
        "\n",
        "**Discrete Random Variable:** It Can take on only a countable number of distinct values. These values are often integers.\n",
        "\n",
        "Examples: The number of heads in 10 coin flips.\n",
        "\n",
        "**Continuous Random Variable:** It Can take on any value within a specified interval. Usually measured on a continuous scale.\n",
        "\n",
        "Examples: Height of a person."
      ],
      "metadata": {
        "id": "pr-qSyxG-lsV"
      }
    },
    {
      "cell_type": "markdown",
      "source": [
        "Q12. Provide an example dataset, calculate both covariance and correlation, and interpret the results.\n",
        "\n",
        "ANS:\n",
        "\n",
        " ![Screenshot 2025-01-02 225728.png](data:image/png;base64,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)\n",
        "\n",
        " Calculate Covariance:\n",
        "\n",
        " ![Screenshot 2025-01-02 230123.png](data:image/png;base64,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)\n",
        "\n",
        " Calculate Correlation:\n",
        "\n",
        " ![Screenshot 2025-01-02 230139.png](data:image/png;base64,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)\n",
        "\n",
        " Interpretation of Correlation:\n",
        "\n",
        "𝑟\n",
        "=\n",
        "0.94\n",
        "r=0.94: A strong positive correlation between\n",
        "𝑋\n",
        "X and\n",
        "𝑌\n",
        "Y.\n",
        "This means as\n",
        "𝑋\n",
        "X increases,\n",
        "𝑌\n",
        "Y increases almost proportionally.\n"
      ],
      "metadata": {
        "id": "0uzOXLrK-lvS"
      }
    },
    {
      "cell_type": "markdown",
      "source": [],
      "metadata": {
        "id": "IbbaqBHH-lxs"
      }
    },
    {
      "cell_type": "markdown",
      "source": [],
      "metadata": {
        "id": "neH0Oler-l0p"
      }
    },
    {
      "cell_type": "markdown",
      "source": [],
      "metadata": {
        "id": "gih7om9A-l4S"
      }
    },
    {
      "cell_type": "markdown",
      "source": [],
      "metadata": {
        "id": "-rw4V_oY7ARx"
      }
    },
    {
      "cell_type": "markdown",
      "source": [],
      "metadata": {
        "id": "tp7rvaK57AUy"
      }
    },
    {
      "cell_type": "markdown",
      "source": [],
      "metadata": {
        "id": "AK5EHd1G7AXz"
      }
    },
    {
      "cell_type": "markdown",
      "source": [],
      "metadata": {
        "id": "sZQQWzQ77AbR"
      }
    }
  ]
}