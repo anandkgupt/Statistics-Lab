{
  "cells": [
    {
      "cell_type": "code",
      "execution_count": null,
      "id": "eb3adf3c-9bd3-4d28-9402-40c94052de3b",
      "metadata": {
        "id": "eb3adf3c-9bd3-4d28-9402-40c94052de3b",
        "outputId": "fc02837b-3dde-4699-a8c3-b58411225521"
      },
      "outputs": [
        {
          "data": {
            "text/plain": [
              "{1, 2, 3, 4, 5}"
            ]
          },
          "execution_count": 1,
          "metadata": {},
          "output_type": "execute_result"
        }
      ],
      "source": [
        "s = {1, 2, 2, 3, 4, 5}\n",
        "s"
      ]
    },
    {
      "cell_type": "code",
      "execution_count": null,
      "id": "644c1a48-782a-466d-9170-5a557289133a",
      "metadata": {
        "id": "644c1a48-782a-466d-9170-5a557289133a",
        "outputId": "d741fc82-bf8e-4be8-a1ef-876b1fbf16af"
      },
      "outputs": [
        {
          "data": {
            "text/plain": [
              "set"
            ]
          },
          "execution_count": 2,
          "metadata": {},
          "output_type": "execute_result"
        }
      ],
      "source": [
        "type(s)"
      ]
    },
    {
      "cell_type": "code",
      "execution_count": null,
      "id": "54d8fa5c-0d09-4bcd-bc0e-a931d77875a2",
      "metadata": {
        "id": "54d8fa5c-0d09-4bcd-bc0e-a931d77875a2",
        "outputId": "7d844201-689f-41e4-97f2-37173ad4a326"
      },
      "outputs": [
        {
          "data": {
            "text/plain": [
              "{1, 2, 3, 4, 5}"
            ]
          },
          "execution_count": 3,
          "metadata": {},
          "output_type": "execute_result"
        }
      ],
      "source": [
        "#set is a collection of unique elements\n",
        "#unordered, unindexed and immutable\n",
        "s"
      ]
    },
    {
      "cell_type": "code",
      "execution_count": null,
      "id": "e267780d-1a67-44b2-baaf-78dc6194085b",
      "metadata": {
        "id": "e267780d-1a67-44b2-baaf-78dc6194085b",
        "outputId": "5937a1a6-baff-4ad9-c6bb-ac3e9cca8e57"
      },
      "outputs": [
        {
          "ename": "TypeError",
          "evalue": "'set' object is not subscriptable",
          "output_type": "error",
          "traceback": [
            "\u001b[0;31m---------------------------------------------------------------------------\u001b[0m",
            "\u001b[0;31mTypeError\u001b[0m                                 Traceback (most recent call last)",
            "Cell \u001b[0;32mIn[4], line 1\u001b[0m\n\u001b[0;32m----> 1\u001b[0m \u001b[43ms\u001b[49m\u001b[43m[\u001b[49m\u001b[38;5;241;43m0\u001b[39;49m\u001b[43m]\u001b[49m \u001b[38;5;66;03m#throw an error\u001b[39;00m\n",
            "\u001b[0;31mTypeError\u001b[0m: 'set' object is not subscriptable"
          ]
        }
      ],
      "source": [
        "s[0] #throw an error"
      ]
    },
    {
      "cell_type": "code",
      "execution_count": null,
      "id": "632a02a3-d565-41fa-b347-1a4067337746",
      "metadata": {
        "id": "632a02a3-d565-41fa-b347-1a4067337746",
        "outputId": "ee40fa07-dcc4-45ff-997f-77d049fb5eda"
      },
      "outputs": [
        {
          "ename": "TypeError",
          "evalue": "'set' object does not support item assignment",
          "output_type": "error",
          "traceback": [
            "\u001b[0;31m---------------------------------------------------------------------------\u001b[0m",
            "\u001b[0;31mTypeError\u001b[0m                                 Traceback (most recent call last)",
            "Cell \u001b[0;32mIn[5], line 1\u001b[0m\n\u001b[0;32m----> 1\u001b[0m \u001b[43ms\u001b[49m\u001b[43m[\u001b[49m\u001b[38;5;241;43m0\u001b[39;49m\u001b[43m]\u001b[49m \u001b[38;5;241m=\u001b[39m \u001b[38;5;241m2\u001b[39m\n",
            "\u001b[0;31mTypeError\u001b[0m: 'set' object does not support item assignment"
          ]
        }
      ],
      "source": [
        "s[0] = 2 #immutable"
      ]
    },
    {
      "cell_type": "code",
      "execution_count": null,
      "id": "c0d81303-b588-4e6a-ab18-6128466a0365",
      "metadata": {
        "id": "c0d81303-b588-4e6a-ab18-6128466a0365",
        "outputId": "c2c77e90-ccea-4bf7-f656-a30072349545"
      },
      "outputs": [
        {
          "data": {
            "text/plain": [
              "5"
            ]
          },
          "execution_count": 6,
          "metadata": {},
          "output_type": "execute_result"
        }
      ],
      "source": [
        "max(s)"
      ]
    },
    {
      "cell_type": "code",
      "execution_count": null,
      "id": "c5131728-cb5c-4fa9-a89e-46631f3e8a22",
      "metadata": {
        "id": "c5131728-cb5c-4fa9-a89e-46631f3e8a22",
        "outputId": "f999deb9-a823-4931-f32f-658cfa69e7a3"
      },
      "outputs": [
        {
          "data": {
            "text/plain": [
              "15"
            ]
          },
          "execution_count": 7,
          "metadata": {},
          "output_type": "execute_result"
        }
      ],
      "source": [
        "sum(s)"
      ]
    },
    {
      "cell_type": "code",
      "execution_count": null,
      "id": "472763fe-5eb7-4818-930c-d5ec2b01c811",
      "metadata": {
        "id": "472763fe-5eb7-4818-930c-d5ec2b01c811",
        "outputId": "923897e2-21e9-40c7-ec3e-6407cb02e577"
      },
      "outputs": [
        {
          "data": {
            "text/plain": [
              "1"
            ]
          },
          "execution_count": 8,
          "metadata": {},
          "output_type": "execute_result"
        }
      ],
      "source": [
        "min(s)"
      ]
    },
    {
      "cell_type": "code",
      "execution_count": null,
      "id": "5961c798-dcef-470e-a689-5497706038ab",
      "metadata": {
        "id": "5961c798-dcef-470e-a689-5497706038ab",
        "outputId": "6b27a0ad-f6d8-4fdf-947f-57089b8ad1e7"
      },
      "outputs": [
        {
          "data": {
            "text/plain": [
              "[1, 2, 3, 4, 5]"
            ]
          },
          "execution_count": 9,
          "metadata": {},
          "output_type": "execute_result"
        }
      ],
      "source": [
        "sorted(s)"
      ]
    },
    {
      "cell_type": "code",
      "execution_count": null,
      "id": "750f3eb7-d2e1-4868-84af-543985b472d6",
      "metadata": {
        "id": "750f3eb7-d2e1-4868-84af-543985b472d6"
      },
      "outputs": [],
      "source": [
        "#set operations>> intersection, union, subset, superset, difference and symmetric difference"
      ]
    },
    {
      "cell_type": "code",
      "execution_count": null,
      "id": "f8dfd521-ca20-48d8-9c05-e535c7fa65ec",
      "metadata": {
        "id": "f8dfd521-ca20-48d8-9c05-e535c7fa65ec"
      },
      "outputs": [],
      "source": [
        "set1 = {34, 67, 78, 100}\n",
        "set2 = {67, 78}"
      ]
    },
    {
      "cell_type": "code",
      "execution_count": null,
      "id": "d6512362-bd17-440d-b246-1f9f1c8537ce",
      "metadata": {
        "id": "d6512362-bd17-440d-b246-1f9f1c8537ce",
        "outputId": "59a7acf2-894d-4288-975c-3d172a814297"
      },
      "outputs": [
        {
          "data": {
            "text/plain": [
              "{67, 78}"
            ]
          },
          "execution_count": 12,
          "metadata": {},
          "output_type": "execute_result"
        }
      ],
      "source": [
        "#intersection\n",
        "set1 & set2"
      ]
    },
    {
      "cell_type": "code",
      "execution_count": null,
      "id": "d48ba6a5-7a65-469d-bbef-051ed77d7388",
      "metadata": {
        "id": "d48ba6a5-7a65-469d-bbef-051ed77d7388",
        "outputId": "412bb7d0-fc2e-4023-b809-10d9c37ecd80"
      },
      "outputs": [
        {
          "data": {
            "text/plain": [
              "{67, 78}"
            ]
          },
          "execution_count": 13,
          "metadata": {},
          "output_type": "execute_result"
        }
      ],
      "source": [
        "#intersection\n",
        "set1.intersection(set2)"
      ]
    },
    {
      "cell_type": "code",
      "execution_count": null,
      "id": "d0c57f2a-c8e0-4fb5-b0a3-a9930dee69fe",
      "metadata": {
        "id": "d0c57f2a-c8e0-4fb5-b0a3-a9930dee69fe",
        "outputId": "be6a4ea1-e767-4f61-fae1-1ce35b6e6b90"
      },
      "outputs": [
        {
          "data": {
            "text/plain": [
              "{34, 67, 78, 100}"
            ]
          },
          "execution_count": 14,
          "metadata": {},
          "output_type": "execute_result"
        }
      ],
      "source": [
        "#union\n",
        "set1 | set2"
      ]
    },
    {
      "cell_type": "code",
      "execution_count": null,
      "id": "63f3f9af-b246-4eff-a9cf-b77d2136ab13",
      "metadata": {
        "id": "63f3f9af-b246-4eff-a9cf-b77d2136ab13",
        "outputId": "9dcfa5b4-17c6-47a9-ce9b-70b27b866f40"
      },
      "outputs": [
        {
          "data": {
            "text/plain": [
              "{34, 67, 78, 100}"
            ]
          },
          "execution_count": 15,
          "metadata": {},
          "output_type": "execute_result"
        }
      ],
      "source": [
        "#union\n",
        "set1.union(set2)"
      ]
    },
    {
      "cell_type": "code",
      "execution_count": null,
      "id": "c4c180cc-a7f1-486d-b193-cda50fff6fd0",
      "metadata": {
        "id": "c4c180cc-a7f1-486d-b193-cda50fff6fd0",
        "outputId": "06152ab4-3f51-42b2-990c-bd9e8875c3ac"
      },
      "outputs": [
        {
          "data": {
            "text/plain": [
              "{34, 100}"
            ]
          },
          "execution_count": 16,
          "metadata": {},
          "output_type": "execute_result"
        }
      ],
      "source": [
        "#difference\n",
        "set1-set2"
      ]
    },
    {
      "cell_type": "code",
      "execution_count": null,
      "id": "ceed7e36-cbcf-477a-91e9-33fd3a82b0e0",
      "metadata": {
        "id": "ceed7e36-cbcf-477a-91e9-33fd3a82b0e0",
        "outputId": "ce03493c-74cd-4f48-bcbc-a8ae93e4cf38"
      },
      "outputs": [
        {
          "data": {
            "text/plain": [
              "{34, 100}"
            ]
          },
          "execution_count": 17,
          "metadata": {},
          "output_type": "execute_result"
        }
      ],
      "source": [
        "#difference\n",
        "set1.difference(set2)"
      ]
    },
    {
      "cell_type": "code",
      "execution_count": null,
      "id": "1a6d1669-381b-40be-acbe-1ce42790aa98",
      "metadata": {
        "id": "1a6d1669-381b-40be-acbe-1ce42790aa98",
        "outputId": "9a6008a8-2f58-43b3-db45-9b0ffd2be9cb"
      },
      "outputs": [
        {
          "data": {
            "text/plain": [
              "True"
            ]
          },
          "execution_count": 18,
          "metadata": {},
          "output_type": "execute_result"
        }
      ],
      "source": [
        "#superset\n",
        "set1.issuperset(set2)"
      ]
    },
    {
      "cell_type": "code",
      "execution_count": null,
      "id": "7b167e47-6c75-4799-9f3b-7c5494e76f50",
      "metadata": {
        "id": "7b167e47-6c75-4799-9f3b-7c5494e76f50",
        "outputId": "b69254d3-84e0-4ffb-8457-e4d00857b2a6"
      },
      "outputs": [
        {
          "data": {
            "text/plain": [
              "False"
            ]
          },
          "execution_count": 20,
          "metadata": {},
          "output_type": "execute_result"
        }
      ],
      "source": [
        "#subset\n",
        "set1.issubset(set2)"
      ]
    },
    {
      "cell_type": "code",
      "execution_count": null,
      "id": "8c62e94d-b79d-46ff-8ec0-9ce45995fbc2",
      "metadata": {
        "id": "8c62e94d-b79d-46ff-8ec0-9ce45995fbc2",
        "outputId": "642f6231-cfcc-4049-dfbc-1850a839c1fe"
      },
      "outputs": [
        {
          "data": {
            "text/plain": [
              "True"
            ]
          },
          "execution_count": 21,
          "metadata": {},
          "output_type": "execute_result"
        }
      ],
      "source": [
        "#subset\n",
        "set2.issubset(set2)"
      ]
    },
    {
      "cell_type": "code",
      "execution_count": null,
      "id": "23dfec78-1666-4e1e-8c46-e37ff8298448",
      "metadata": {
        "id": "23dfec78-1666-4e1e-8c46-e37ff8298448",
        "outputId": "996c1635-6474-4160-b5d1-f8da93735deb"
      },
      "outputs": [
        {
          "data": {
            "text/plain": [
              "False"
            ]
          },
          "execution_count": 23,
          "metadata": {},
          "output_type": "execute_result"
        }
      ],
      "source": [
        "set2.issuperset(set1)"
      ]
    },
    {
      "cell_type": "code",
      "execution_count": null,
      "id": "a1dd2b80-3f9f-4582-8e9e-b520f87f49ba",
      "metadata": {
        "id": "a1dd2b80-3f9f-4582-8e9e-b520f87f49ba"
      },
      "outputs": [],
      "source": [
        "#symmetric difference\n"
      ]
    },
    {
      "cell_type": "code",
      "execution_count": null,
      "id": "57f168e9-73ba-4170-9ac2-0d4520406815",
      "metadata": {
        "id": "57f168e9-73ba-4170-9ac2-0d4520406815",
        "outputId": "b6ab26f4-2c13-4cd4-c082-db6b9b9b7a53"
      },
      "outputs": [
        {
          "data": {
            "text/plain": [
              "{34, 100, 102}"
            ]
          },
          "execution_count": 24,
          "metadata": {},
          "output_type": "execute_result"
        }
      ],
      "source": [
        "set1 = {34, 67, 78, 100}\n",
        "set2 = {67, 78, 102}\n",
        "\n",
        "set1 ^ set2"
      ]
    },
    {
      "cell_type": "code",
      "execution_count": null,
      "id": "d9c134b6-9f24-4796-b2b1-e086f849d3f1",
      "metadata": {
        "id": "d9c134b6-9f24-4796-b2b1-e086f849d3f1",
        "outputId": "e4a3fb74-f437-4978-d4f0-508c001230f8"
      },
      "outputs": [
        {
          "data": {
            "text/plain": [
              "{34, 100, 102}"
            ]
          },
          "execution_count": 25,
          "metadata": {},
          "output_type": "execute_result"
        }
      ],
      "source": [
        "set1.symmetric_difference(set2)"
      ]
    },
    {
      "cell_type": "code",
      "execution_count": null,
      "id": "6f89c68e-fcc2-491d-9439-343759b85803",
      "metadata": {
        "id": "6f89c68e-fcc2-491d-9439-343759b85803"
      },
      "outputs": [],
      "source": []
    }
  ],
  "metadata": {
    "kernelspec": {
      "display_name": "Python 3 (ipykernel)",
      "language": "python",
      "name": "python3"
    },
    "language_info": {
      "codemirror_mode": {
        "name": "ipython",
        "version": 3
      },
      "file_extension": ".py",
      "mimetype": "text/x-python",
      "name": "python",
      "nbconvert_exporter": "python",
      "pygments_lexer": "ipython3",
      "version": "3.10.8"
    },
    "colab": {
      "provenance": []
    }
  },
  "nbformat": 4,
  "nbformat_minor": 5
}